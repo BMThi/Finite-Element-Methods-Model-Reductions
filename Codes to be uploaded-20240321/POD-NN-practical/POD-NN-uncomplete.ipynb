{
 "cells": [
  {
   "cell_type": "markdown",
   "id": "a7d05498",
   "metadata": {},
   "source": [
    "# POD-NN method"
   ]
  },
  {
   "cell_type": "markdown",
   "id": "efe4881b",
   "metadata": {},
   "source": [
    "## The advection-diffusion problem"
   ]
  },
  {
   "cell_type": "markdown",
   "id": "8ab245f5",
   "metadata": {},
   "source": [
    "Let us  considere the following BVP. It is based on the 2D stationary advection-diffusion. It is here parametrized by the diffusivity coefficient $\\lambda(\\mu)$. The equations read: "
   ]
  },
  {
   "cell_type": "markdown",
   "id": "1d83a1fd",
   "metadata": {},
   "source": [
    "$$\\begin{equation}\n",
    "\\begin{array}:\n",
    "-div(\\lambda(\\mu)\\nabla u)+w\\nabla u&=f & \\text{in}~~\\Omega\\\\\n",
    "u&=g & \\text{in}~~\\varGamma_{in}\\\\\n",
    "-\\lambda(\\mu)\\nabla u\\cdot n&=0 & \\text{in}~~\\varGamma_{wall}\\\\\n",
    "-\\lambda(\\mu)\\nabla u\\cdot n&=0 & \\text{in}~~\\varGamma_{out}\n",
    "\\end{array}\n",
    "\\end{equation}\n",
    "$$"
   ]
  },
  {
   "cell_type": "markdown",
   "id": "aafe68ad",
   "metadata": {},
   "source": [
    "with $\\lambda(\\mu)=\\exp(\\mu_{0}(\\mu + 1))$. The scalar $\\mu_{0}=0.7$ and $\\mu\\in\\textbf{P}=[\\mu_{min},{~}\\mu_{max}],{~}  \\mu_{min}=1,{~} \\mu_{max}=10$."
   ]
  },
  {
   "cell_type": "markdown",
   "id": "749b312a",
   "metadata": {},
   "source": [
    "### Modules  import and initializations"
   ]
  },
  {
   "cell_type": "code",
   "execution_count": 63,
   "id": "2eca8a3e",
   "metadata": {},
   "outputs": [],
   "source": [
    "### Modules importation\n",
    "import tensorflow as tf\n",
    "import tensorflow.keras as k\n",
    "from tensorflow.keras.datasets import mnist\n",
    "import tensorflow.keras.preprocessing.image as kpi\n",
    "import tensorflow.keras.models as km\n",
    "import tensorflow.keras.layers as kl\n",
    "import tensorflow.keras.losses as kloss\n",
    "import tensorflow.keras.regularizers as kr\n",
    "import tensorflow.keras.backend as K\n",
    "import tensorflow.keras.utils as ku\n",
    "from tensorflow.keras import callbacks\n",
    "import scipy as sc\n",
    "import numpy as np\n",
    "import numpy.linalg as npl\n",
    "import matplotlib.pyplot as plt\n",
    "import sys,os\n",
    "import random \n",
    "#import pandas as pd\n",
    "import sklearn.utils\n",
    "# Verbosity\n",
    "fit_verbosity = 1"
   ]
  },
  {
   "cell_type": "markdown",
   "id": "59f683bc",
   "metadata": {},
   "source": [
    "### Normalization and non-affine functions "
   ]
  },
  {
   "cell_type": "code",
   "execution_count": 64,
   "id": "daa43431",
   "metadata": {},
   "outputs": [],
   "source": [
    "# The scaling function for data normalisation\n",
    "# Scaling function\n",
    "def scaling(S, S_max, S_min):\n",
    "    S[ : ] = (S - S_min)/(S_max - S_min)\n",
    "    \n",
    "# Inverse scaling function\n",
    "def inverse_scaling(S, S_max, S_min):\n",
    "    S[ : ] = (S_max - S_min) * S + S_min\n",
    "    \n",
    "# The non-affinity function\n",
    "def Lambda(mu):\n",
    "    return np.exp(mu0*(mu+1.))"
   ]
  },
  {
   "cell_type": "markdown",
   "id": "75d79df0",
   "metadata": {},
   "source": [
    "## The offline phase"
   ]
  },
  {
   "cell_type": "markdown",
   "id": "c62f3018",
   "metadata": {},
   "source": [
    "### Preparing the data"
   ]
  },
  {
   "cell_type": "markdown",
   "id": "cdb02148",
   "metadata": {},
   "source": [
    "The RB POD matrix $Brb=[\\xi_{1},\\dots,\\xi_{M}]\\in\\mathbb{R}^{NN\\times N_{rb}}$. The RB matrix is constructed by POD method. It is computed for 100 snapshots of Problem (1). The reduced matrix here is of size $N_{rb}=5$.\n",
    "\n",
    "For the training step of the NN, the snapshots matrix $S=[U_{h}(\\mu_{1}),\\dots,U_{h}(\\mu_{M})]\\in\\mathbb{R}^{NN\\times M}$ has already been computed with $M=10000$."
   ]
  },
  {
   "cell_type": "markdown",
   "id": "8b953859",
   "metadata": {},
   "source": [
    "#### Load the data from numpy files"
   ]
  },
  {
   "cell_type": "code",
   "execution_count": 65,
   "id": "a5d416a6",
   "metadata": {},
   "outputs": [],
   "source": [
    "# Prepare the data\n",
    "# Load the data from the numpy file\n",
    "# Snaphots matrix\n",
    "S =  np.load('Snapshots_non_affine.npy') # of size M*NN\n",
    "S = S.transpose() # of size NN*M\n",
    "\n",
    "# The reduced POD basis\n",
    "Brb = np.load('Brb.npy') # of size NN*Nrb#\n",
    "Brb = Brb.real\n",
    "Nrb = len(Brb.transpose())\n",
    "\n",
    "# The parameter matrix\n",
    "P = np.load('parameter_non_affine.npy') # of size M x 1\n",
    "P = P.reshape(len(P),1)"
   ]
  },
  {
   "cell_type": "markdown",
   "id": "e2a5e1c7",
   "metadata": {},
   "source": [
    "#### Computation of the reduced outputs for the NN and randomly shuffle the data"
   ]
  },
  {
   "cell_type": "markdown",
   "id": "017eeb36",
   "metadata": {},
   "source": [
    "The reduced outputs are computed by the formula: $$\\begin{equation}Urb = Brb^{T}U_{h}(\\mu)\\in\\mathbb{R}^{N_{rb}}\\end{equation}$$ with $\\mu\\in\\textbf{P}=[\\mu_{min},{~}\\mu_{max}]$. $\\\\$\n",
    "We denote by $Urb_{POD}=Brb^{T}S$."
   ]
  },
  {
   "cell_type": "code",
   "execution_count": 66,
   "id": "03537ae8",
   "metadata": {},
   "outputs": [
    {
     "name": "stdout",
     "output_type": "stream",
     "text": [
      "Urb_POD size= (10000, 5)\n",
      "Urb_POD before normalization \n",
      " [[-3.82874547e+01 -1.08189228e+00 -9.21283941e-02  6.70748927e-02\n",
      "   1.64140633e-02]\n",
      " [-3.67402027e+01 -1.59635435e+00  3.51970723e-01 -3.38847339e-02\n",
      "  -3.47409812e-03]\n",
      " [-3.97810071e+01 -4.13601831e-01 -5.23348323e-01  1.12482827e-01\n",
      "   1.21719565e-02]\n",
      " ...\n",
      " [-4.04210875e+01  3.01885325e+00  1.00825938e+00  1.93867536e-01\n",
      "  -2.70956354e-02]\n",
      " [-4.03359884e+01 -4.81891247e-02 -6.71382387e-01  9.53138862e-02\n",
      "   8.68552809e-05]\n",
      " [-3.80288074e+01 -1.17613619e+00 -1.72229418e-02  5.27101184e-02\n",
      "   1.44241288e-02]]\n",
      "P before normalization\n",
      " [[170.83258954]\n",
      " [621.61021438]\n",
      " [ 75.83294685]\n",
      " ...\n",
      " [  4.62013092]\n",
      " [ 54.20153727]\n",
      " [199.97649207]]\n"
     ]
    }
   ],
   "source": [
    "# Computation of the reduced solutions: Brb^T*Uh(mu)\n",
    "Urb_POD = np.dot(Brb.transpose(),S) # of size Nrb*M\n",
    "#print(\"Urb_POD size=\",Urb_POD.shape)\n",
    "\n",
    "# Transpose \n",
    "Urb_POD = Urb_POD.transpose() # of size M*Nrb\n",
    "print(\"Urb_POD size=\",Urb_POD.shape)\n",
    "\n",
    "# Randomy shufl the data set\n",
    "shuffle = np.arange(len(Urb_POD))\n",
    "np.random.shuffle(shuffle)\n",
    "Urb_POD = Urb_POD[shuffle]\n",
    "P = P[shuffle]\n",
    "print(\"Urb_POD before normalization \\n\",Urb_POD)\n",
    "print(\"P before normalization\\n\",P)"
   ]
  },
  {
   "cell_type": "markdown",
   "id": "00570cb3",
   "metadata": {},
   "source": [
    "#### Data normalization"
   ]
  },
  {
   "cell_type": "markdown",
   "id": "a5d4f8f5",
   "metadata": {},
   "source": [
    "The normalization of the data is done as follows:\n",
    "\n",
    "The input parameters for the NN are such that: $$\\begin{equation}\\tilde{\\mu_{i}} = \\frac{\\mu_{i}}{\\mu_{max}}\\end{equation}$$ for $1\\leq i\\leq M$\n",
    "\n",
    "The outputs (RB solutions) for the NN are normalized as follows:\n",
    "$$\\begin{equation}\n",
    "(\\tilde{Urb}_{POD})_{ij} = \\frac{(Urb_{POD})_{ij}-\\underset{i,j}{\\min}(Urb_{POD})_{ij}}{\\underset{i,j}{\\max}(Urb_{POD})_{ij}-\\underset{i,j}{\\min}(Urb_{POD})_{ij}}\n",
    "\\end{equation}$$ \n",
    "for $1\\leq i\\leq M$ and $1\\leq j\\leq N_{rb}$"
   ]
  },
  {
   "cell_type": "code",
   "execution_count": 67,
   "id": "ff538d10",
   "metadata": {},
   "outputs": [
    {
     "name": "stdout",
     "output_type": "stream",
     "text": [
      "P after normalization\n",
      " [[0.07735764]\n",
      " [0.281482  ]\n",
      " [0.03433922]\n",
      " ...\n",
      " [0.00209212]\n",
      " [0.02454393]\n",
      " [0.09055479]]\n",
      "Urb_POD after normalization\n",
      " [[0.06100667 0.90446869 0.92690696 0.93051615 0.92936765]\n",
      " [0.09608337 0.89280567 0.93697483 0.92822736 0.92891678]\n",
      " [0.02714736 0.91961905 0.91713106 0.93154556 0.92927148]\n",
      " ...\n",
      " [0.01263653 0.99743391 0.9518531  0.93339058 0.92838127]\n",
      " [0.01456576 0.92790307 0.91377508 0.93115633 0.92899751]\n",
      " [0.06687029 0.90233215 0.92860509 0.93019049 0.92932254]]\n"
     ]
    }
   ],
   "source": [
    "# Data normalization\n",
    "# Normalization of the parameter set\n",
    "# Obtain the min and the max of P\n",
    "P_max = np.max(P); P_min = np.min(P)\n",
    "# Normalize the parameter vector P\n",
    "P = P/P_max\n",
    "\n",
    "# Normalization of the reduced matrix\n",
    "# Obtain the min and the max of the reduced outputs BrbUh\n",
    "Urb_POD_max = np.max(Urb_POD); Urb_POD_min = np.min(Urb_POD)\n",
    "scaling(Urb_POD, Urb_POD_max, Urb_POD_min)\n",
    "\n",
    "print(\"P after normalization\\n\",P)\n",
    "print(\"Urb_POD after normalization\\n\",Urb_POD)"
   ]
  },
  {
   "cell_type": "markdown",
   "id": "b4cfed79",
   "metadata": {},
   "source": [
    "#### Load the already trained NN"
   ]
  },
  {
   "cell_type": "code",
   "execution_count": 68,
   "id": "d65b990d",
   "metadata": {},
   "outputs": [
    {
     "name": "stdout",
     "output_type": "stream",
     "text": [
      "Model: \"sequential\"\n",
      "_________________________________________________________________\n",
      " Layer (type)                Output Shape              Param #   \n",
      "=================================================================\n",
      " dense (Dense)               (None, 17)                34        \n",
      "                                                                 \n",
      " dense_1 (Dense)             (None, 17)                306       \n",
      "                                                                 \n",
      " dense_2 (Dense)             (None, 17)                306       \n",
      "                                                                 \n",
      " dense_3 (Dense)             (None, 17)                306       \n",
      "                                                                 \n",
      " dense_4 (Dense)             (None, 17)                306       \n",
      "                                                                 \n",
      " dense_5 (Dense)             (None, 17)                306       \n",
      "                                                                 \n",
      " dense_6 (Dense)             (None, 17)                306       \n",
      "                                                                 \n",
      " dense_7 (Dense)             (None, 17)                306       \n",
      "                                                                 \n",
      " dense_8 (Dense)             (None, 17)                306       \n",
      "                                                                 \n",
      " dense_9 (Dense)             (None, 17)                306       \n",
      "                                                                 \n",
      " dense_10 (Dense)            (None, 17)                306       \n",
      "                                                                 \n",
      " dense_11 (Dense)            (None, 17)                306       \n",
      "                                                                 \n",
      " dense_12 (Dense)            (None, 17)                306       \n",
      "                                                                 \n",
      " dense_13 (Dense)            (None, 17)                306       \n",
      "                                                                 \n",
      " dense_14 (Dense)            (None, 5)                 90        \n",
      "                                                                 \n",
      "=================================================================\n",
      "Total params: 4,102\n",
      "Trainable params: 4,102\n",
      "Non-trainable params: 0\n",
      "_________________________________________________________________\n"
     ]
    }
   ],
   "source": [
    "# Load the pre-trained NN stored in h5 format\n",
    "Model = km.load_model(f'Neural-network.h5')\n",
    "\n",
    "# Summary of the model: layers and number of parameters \n",
    "Model.summary()"
   ]
  },
  {
   "cell_type": "markdown",
   "id": "472a6edd",
   "metadata": {},
   "source": [
    "## The online phase"
   ]
  },
  {
   "cell_type": "markdown",
   "id": "69dc5b1e",
   "metadata": {},
   "source": [
    "### New parameter value"
   ]
  },
  {
   "cell_type": "code",
   "execution_count": 69,
   "id": "4e3e92bd",
   "metadata": {},
   "outputs": [
    {
     "name": "stdout",
     "output_type": "stream",
     "text": [
      "New value for mu \n",
      "mu= 5.0\n",
      "diffus= 66.6863310409251\n",
      "diffus after normalization= 0.030197383422318497\n"
     ]
    }
   ],
   "source": [
    "# The onlinbe phase \n",
    "# Predict the new solution U_POD_NN\n",
    "# The constant mu_0\n",
    "mu0 = 0.7\n",
    "\n",
    "# New value of the physical parameter mu\n",
    "print('New value for mu ')\n",
    "# The parameter input for the NN\n",
    "#mu = np.array([[float(input())]])\n",
    "mu = 5.\n",
    "print(\"mu=\",mu)\n",
    "\n",
    "# The non-affine parameter\n",
    "# TO BE COMPLETED ...\n",
    "diffus = Lambda(mu)\n",
    "print(\"diffus=\",diffus)\n",
    "\n",
    "# Normalization of the non-affine parameter\n",
    "# TO BE COMPLETED ...\n",
    "diffus /= P_max\n",
    "print(\"diffus after normalization=\",diffus)"
   ]
  },
  {
   "cell_type": "markdown",
   "id": "cce3e0d6",
   "metadata": {},
   "source": [
    "### Compute the RB solution for the new parameter value by performing the NN"
   ]
  },
  {
   "cell_type": "code",
   "execution_count": 70,
   "id": "52a775b7",
   "metadata": {},
   "outputs": [
    {
     "name": "stdout",
     "output_type": "stream",
     "text": [
      "1/1 [==============================] - 0s 81ms/step\n"
     ]
    },
    {
     "data": {
      "text/plain": [
       "(1296, 1)"
      ]
     },
     "execution_count": 70,
     "metadata": {},
     "output_type": "execute_result"
    }
   ],
   "source": [
    "# Predict the reduced basis solution of the new parameter\n",
    "# TO BE COMPLETED ...\n",
    "Urb_pred = Model.predict(diffus.reshape(1, -1))\n",
    "\n",
    "# Rescaling the predicted reduced basis solution\n",
    "# TO BE COMPLETED ...\n",
    "inverse_scaling(Urb_pred, Urb_POD_max, Urb_POD_min)\n",
    "\n",
    "# The change of variable from the RB basis to complete FE one.\n",
    "# TO BE COMPLETED ...\n",
    "Uh_POD_NN = np.dot(Brb, Urb_pred.T)\n",
    "Uh_POD_NN.shape"
   ]
  },
  {
   "cell_type": "markdown",
   "id": "86610189",
   "metadata": {},
   "source": [
    "### Save the POD-NN solution in numpy file"
   ]
  },
  {
   "cell_type": "code",
   "execution_count": 71,
   "id": "ebf2c470",
   "metadata": {},
   "outputs": [],
   "source": [
    "np.save('Uh_POD_NN',Uh_POD_NN)"
   ]
  }
 ],
 "metadata": {
  "kernelspec": {
   "display_name": "Python 3 (ipykernel)",
   "language": "python",
   "name": "python3"
  },
  "language_info": {
   "codemirror_mode": {
    "name": "ipython",
    "version": 3
   },
   "file_extension": ".py",
   "mimetype": "text/x-python",
   "name": "python",
   "nbconvert_exporter": "python",
   "pygments_lexer": "ipython3",
   "version": "3.11.3"
  }
 },
 "nbformat": 4,
 "nbformat_minor": 5
}
